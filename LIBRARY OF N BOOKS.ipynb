{
 "cells": [
  {
   "cell_type": "code",
   "execution_count": 13,
   "metadata": {},
   "outputs": [
    {
     "name": "stdout",
     "output_type": "stream",
     "text": [
      "1\n",
      "2\n",
      "6\n"
     ]
    }
   ],
   "source": [
    "def factorial(n):\n",
    "    fact=1\n",
    "    for i in range(1,n+1):\n",
    "        fact=fact*i\n",
    "        print(fact)\n",
    "factorial(3)"
   ]
  },
  {
   "cell_type": "code",
   "execution_count": 17,
   "metadata": {},
   "outputs": [
    {
     "name": "stdout",
     "output_type": "stream",
     "text": [
      "2\n",
      "3\n",
      "4\n",
      "4\n"
     ]
    }
   ],
   "source": [
    "for i in range(1,4):\n",
    "    i+=1\n",
    "    print(i)\n",
    "print(i)\n",
    " "
   ]
  },
  {
   "cell_type": "code",
   "execution_count": 31,
   "metadata": {},
   "outputs": [
    {
     "name": "stdout",
     "output_type": "stream",
     "text": [
      "6\n"
     ]
    }
   ],
   "source": [
    "def factorial(num):\n",
    "    x=1\n",
    "    while num>0:\n",
    "        x=x*num\n",
    "        num=num-1\n",
    "    print(x)\n",
    "factorial(3)"
   ]
  },
  {
   "cell_type": "code",
   "execution_count": 29,
   "metadata": {},
   "outputs": [
    {
     "name": "stdout",
     "output_type": "stream",
     "text": [
      "0\n"
     ]
    }
   ],
   "source": [
    "x=8\n",
    "while x>0:\n",
    "    \n",
    "    x=x-1\n",
    "print(x)"
   ]
  },
  {
   "cell_type": "code",
   "execution_count": 1,
   "metadata": {},
   "outputs": [
    {
     "name": "stdout",
     "output_type": "stream",
     "text": [
      "12\n"
     ]
    }
   ],
   "source": [
    "x=lambda a,b:a*b                       #u need to store lambda in some variable to send in arguments i.e(3,4)\n",
    "print(x(3,4))"
   ]
  },
  {
   "cell_type": "code",
   "execution_count": 3,
   "metadata": {},
   "outputs": [
    {
     "name": "stdout",
     "output_type": "stream",
     "text": [
      "0\n",
      "1\n",
      "2\n",
      "3\n",
      "4\n",
      "5\n",
      "6\n",
      "7\n"
     ]
    }
   ],
   "source": [
    "import time, sys\n",
    "for i in range(8):\n",
    "    print(i)\n",
    "    time.sleep(0.5)"
   ]
  },
  {
   "cell_type": "code",
   "execution_count": 1,
   "metadata": {},
   "outputs": [
    {
     "name": "stdout",
     "output_type": "stream",
     "text": [
      "0\n",
      "1\n",
      "2\n",
      "3\n",
      "4\n",
      "5\n",
      "6\n",
      "7\n"
     ]
    }
   ],
   "source": [
    "for i in range(8):\n",
    "    print(i)"
   ]
  },
  {
   "cell_type": "code",
   "execution_count": 12,
   "metadata": {},
   "outputs": [
    {
     "name": "stdout",
     "output_type": "stream",
     "text": [
      "[100, 210, 300, 500, 1000]\n",
      "power of your subconscious : 100\n",
      "becoming : 210\n",
      "harry potter : 300\n",
      "the alchemist : 500\n",
      "rich dad poor dad : 1000\n",
      "None\n",
      "None\n",
      "None\n",
      "500\n",
      "None\n",
      "1000\n",
      "None\n"
     ]
    }
   ],
   "source": [
    "Library= {\"power of your subconscious\":100,\"becoming\":1000,\"harry potter\":500,\"the alchemist\":210,\"rich dad poor dad\":300}\n",
    "value_list= list(Library.values())\n",
    "key_list=list(Library.keys())\n",
    "\n",
    "\n",
    "\n",
    "value_list.sort()                 # now whenever u will ask for book value list it will print in this format only\n",
    "\n",
    "print(value_list)\n",
    "for i in value_list:             # items in value list as i     #[100,210,240,300,1000]\n",
    "    x=value_list.index(i)        # x takes index values\n",
    "                                              \n",
    "    for j in key_list:        \n",
    "      y=key_list.index(j)       #[original key list]\n",
    "      if x==y:                   # matching index values\n",
    "          print(key_list[x],\":\",value_list[y])       # accessing value using inddex\n",
    "\n",
    "def val(i):\n",
    "    if i>=500:\n",
    "        print(i)\n",
    "        \n",
    "for i in value_list:\n",
    "      print(val(i))\n",
    "#       if i>=500:\n",
    "#         new_list=[]\n",
    "#         new_list.append(i)\n",
    "#       print(new_list,end=\",\")\n",
    "\n",
    "\n"
   ]
  },
  {
   "cell_type": "code",
   "execution_count": null,
   "metadata": {},
   "outputs": [],
   "source": []
  },
  {
   "cell_type": "code",
   "execution_count": null,
   "metadata": {},
   "outputs": [],
   "source": []
  }
 ],
 "metadata": {
  "kernelspec": {
   "display_name": "Python 3",
   "language": "python",
   "name": "python3"
  },
  "language_info": {
   "codemirror_mode": {
    "name": "ipython",
    "version": 3
   },
   "file_extension": ".py",
   "mimetype": "text/x-python",
   "name": "python",
   "nbconvert_exporter": "python",
   "pygments_lexer": "ipython3",
   "version": "3.8.5"
  }
 },
 "nbformat": 4,
 "nbformat_minor": 4
}
