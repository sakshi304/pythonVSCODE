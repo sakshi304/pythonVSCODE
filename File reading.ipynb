{
 "cells": [
  {
   "cell_type": "code",
   "execution_count": 1,
   "metadata": {},
   "outputs": [
    {
     "name": "stdout",
     "output_type": "stream",
     "text": [
      "HELLO MY NAME IS SAKSHI KISHOR KOTHURKAR\n",
      "SHE IS THE STRONGEST WOMAN OF THIS ERA\n",
      "OK THEN GOODBYE \n"
     ]
    }
   ],
   "source": [
    "f=open(\"MY SELF.txt\")  # default mode is t i.e txt mode  \n",
    "                       # this(f) is called file handle / file pointer\n",
    "content= f.read()\n",
    "print(content)"
   ]
  },
  {
   "cell_type": "code",
   "execution_count": 2,
   "metadata": {},
   "outputs": [],
   "source": [
    "f.close() # always close to avoid other programer to read it\n",
    "  # the resources tied up to open the file are released \n",
    "    # though python has its own garbage collector to see to move this trash  \n",
    "    # but its good to close"
   ]
  },
  {
   "cell_type": "code",
   "execution_count": 20,
   "metadata": {},
   "outputs": [
    {
     "name": "stdout",
     "output_type": "stream",
     "text": [
      "b'HELLO MY NAME IS SAKSHI KISHOR KOTHURKAR\\nSHE IS THE STRONGEST WOMAN OF THIS ERA\\nOK THEN GOODBYE '\n"
     ]
    }
   ],
   "source": [
    "f=open(\"MY SELF.txt\",\"rb\")       # b is binary mode \n",
    "content= f.read()\n",
    "print(content)"
   ]
  },
  {
   "cell_type": "code",
   "execution_count": 5,
   "metadata": {},
   "outputs": [
    {
     "name": "stdout",
     "output_type": "stream",
     "text": [
      "HEL\n",
      "LO MY\n"
     ]
    }
   ],
   "source": [
    "f=open(\"MY SELF.txt\",\"r\")       # b is binary mode \n",
    "content= f.read(3)              # 1st 3 charc   # read(\"no of charac to print\")\n",
    "print(content)\n",
    "\n",
    "content= f.read(5)           # nxt 5 charac\n",
    "print(content)"
   ]
  },
  {
   "cell_type": "code",
   "execution_count": 13,
   "metadata": {},
   "outputs": [
    {
     "name": "stdout",
     "output_type": "stream",
     "text": [
      "1 HELLO WORLDHELLO WORLDHELLO WORLDHELLO WORLDHELLO WORLDHELLO WORLDHELLO WORLD\n",
      "2 \n"
     ]
    }
   ],
   "source": [
    "f=open(\"MY SELF.txt\",\"r\")       # b is binary mode \n",
    "content= f.read(344)              # all charac\n",
    "print(1, content)\n",
    "\n",
    "content= f.read(5)           # no more charac  ahead\n",
    "print(2, content)"
   ]
  },
  {
   "cell_type": "code",
   "execution_count": 26,
   "metadata": {},
   "outputs": [
    {
     "name": "stdout",
     "output_type": "stream",
     "text": [
      "HELLO MY NAME IS SAKSHI KISHOR KOTHURKAR\n",
      "\n",
      "SHE IS THE STRONGEST WOMAN OF THIS ERA\n",
      "\n",
      "OK THEN GOODBYE \n"
     ]
    }
   ],
   "source": [
    "f=open(\"MY SELF.txt\")\n",
    "\n",
    "\n",
    "for line in f:\n",
    "    print(line)\n"
   ]
  },
  {
   "cell_type": "code",
   "execution_count": 27,
   "metadata": {},
   "outputs": [],
   "source": [
    "f=open(\"MY SELF.txt\")\n",
    "content= f.read()\n",
    "\n",
    "for line in f:     # no output here since content has read the file . zyada \n",
    "    print(line)     #   sochna mat aisa hi hai ye\n"
   ]
  },
  {
   "cell_type": "code",
   "execution_count": 10,
   "metadata": {},
   "outputs": [
    {
     "name": "stdout",
     "output_type": "stream",
     "text": [
      "0\n"
     ]
    }
   ],
   "source": [
    "f=open(\"MY SELF.txt\")\n",
    "print(f.tell())         # locates where pointer is"
   ]
  },
  {
   "cell_type": "code",
   "execution_count": 15,
   "metadata": {},
   "outputs": [
    {
     "name": "stdout",
     "output_type": "stream",
     "text": [
      "HELLO WORLDHELLO WORLDHELLO WORLDHELLO WORLDHELLO WORLDHELLO WORLDHELLO WORLD\n",
      "77\n"
     ]
    }
   ],
   "source": [
    "f=open(\"MY SELF.txt\")           \n",
    "print(f.readline())    # reads  line by line\n",
    "print(f.tell())"
   ]
  },
  {
   "cell_type": "code",
   "execution_count": 12,
   "metadata": {},
   "outputs": [
    {
     "name": "stdout",
     "output_type": "stream",
     "text": [
      "\n",
      "77\n"
     ]
    }
   ],
   "source": [
    "print(f.readline())\n",
    "print(f.tell())"
   ]
  },
  {
   "cell_type": "code",
   "execution_count": 14,
   "metadata": {},
   "outputs": [
    {
     "name": "stdout",
     "output_type": "stream",
     "text": [
      "\n"
     ]
    }
   ],
   "source": [
    "print(f.readline())"
   ]
  },
  {
   "cell_type": "code",
   "execution_count": 32,
   "metadata": {},
   "outputs": [
    {
     "name": "stdout",
     "output_type": "stream",
     "text": [
      "[]\n"
     ]
    }
   ],
   "source": [
    "print(f.readlines())"
   ]
  },
  {
   "cell_type": "code",
   "execution_count": 8,
   "metadata": {},
   "outputs": [
    {
     "name": "stdout",
     "output_type": "stream",
     "text": [
      "77\n"
     ]
    }
   ],
   "source": [
    "print(f.tell())"
   ]
  },
  {
   "cell_type": "code",
   "execution_count": null,
   "metadata": {},
   "outputs": [],
   "source": []
  },
  {
   "cell_type": "code",
   "execution_count": 16,
   "metadata": {},
   "outputs": [
    {
     "name": "stdout",
     "output_type": "stream",
     "text": [
      "['HELLO WORLDHELLO WORLDHELLO WORLDHELLO WORLDHELLO WORLDHELLO WORLDHELLO WORLD']\n"
     ]
    }
   ],
   "source": [
    "f=open(\"MY SELF.txt\")           \n",
    "print(f.readlines())    # reads in the form of list"
   ]
  },
  {
   "cell_type": "code",
   "execution_count": null,
   "metadata": {},
   "outputs": [],
   "source": []
  },
  {
   "cell_type": "code",
   "execution_count": null,
   "metadata": {},
   "outputs": [],
   "source": []
  }
 ],
 "metadata": {
  "kernelspec": {
   "display_name": "Python 3",
   "language": "python",
   "name": "python3"
  },
  "language_info": {
   "codemirror_mode": {
    "name": "ipython",
    "version": 3
   },
   "file_extension": ".py",
   "mimetype": "text/x-python",
   "name": "python",
   "nbconvert_exporter": "python",
   "pygments_lexer": "ipython3",
   "version": "3.8.5"
  }
 },
 "nbformat": 4,
 "nbformat_minor": 4
}
