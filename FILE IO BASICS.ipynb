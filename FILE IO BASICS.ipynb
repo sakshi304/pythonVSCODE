{
 "cells": [
  {
   "cell_type": "code",
   "execution_count": 1,
   "metadata": {},
   "outputs": [
    {
     "name": "stdout",
     "output_type": "stream",
     "text": [
      "Collecting cowsay\n",
      "  Downloading cowsay-4.0-py2.py3-none-any.whl (24 kB)\n",
      "Installing collected packages: cowsay\n",
      "Successfully installed cowsay-4.0\n",
      "Note: you may need to restart the kernel to use updated packages.\n"
     ]
    }
   ],
   "source": [
    "pip install cowsay"
   ]
  },
  {
   "cell_type": "code",
   "execution_count": 2,
   "metadata": {},
   "outputs": [
    {
     "name": "stdout",
     "output_type": "stream",
     "text": [
      "  _________\n",
      "| Hi Deamon |\n",
      "  =========\n",
      "                 \\\n",
      "                  \\\n",
      "                   \\\n",
      "                    \\\n",
      "                     /- _  `-/  '\n",
      "                    (/\\/ \\ \\   /\\\n",
      "                    / /   | `    \\\n",
      "                    O O   ) /    |\n",
      "                    `-^--'`<     '\n",
      "                   (_.)  _  )   /\n",
      "                    `.___/`    /\n",
      "                      `-----' /\n",
      "         <----.     __ / __   \\\n",
      "         <----|====O)))==) \\) /====\n",
      "         <----'    `--' `.__,' \\\n",
      "                      |        |\n",
      "                       \\       /\n",
      "                 ______( (_  / \\______\n",
      "               ,'  ,-----'   |        \\\n",
      "               `--{__________)        \\/\n"
     ]
    }
   ],
   "source": [
    "import cowsay \n",
    "cowsay.daemon(\"Hi Deamon\")"
   ]
  },
  {
   "cell_type": "code",
   "execution_count": null,
   "metadata": {},
   "outputs": [],
   "source": [
    "# 2 types of memories  : 1. hardware: non-volatile  2.RAM:volatiile (temporary)\n",
    "# in non volatile cheezon ko hum file ke form me store krte hai whether it is image video mp3.\n",
    "# so a particular app like gallery decode the binary data of image \n",
    "\"\"\"\n",
    "r : r mode opens a file for read-only\n",
    "w : open a file for writing\n",
    "x ; creates file if not exist\n",
    "a : add more content to a file\n",
    "t : text mode \n",
    "b ; binary  mode\n",
    "+ :  read and write\n",
    "\n",
    "read and text are default mode\n",
    "\n",
    "\"\"\""
   ]
  }
 ],
 "metadata": {
  "kernelspec": {
   "display_name": "Python 3",
   "language": "python",
   "name": "python3"
  },
  "language_info": {
   "codemirror_mode": {
    "name": "ipython",
    "version": 3
   },
   "file_extension": ".py",
   "mimetype": "text/x-python",
   "name": "python",
   "nbconvert_exporter": "python",
   "pygments_lexer": "ipython3",
   "version": "3.8.5"
  }
 },
 "nbformat": 4,
 "nbformat_minor": 4
}
