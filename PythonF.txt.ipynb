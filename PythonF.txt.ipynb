{
 "cells": [
  {
   "cell_type": "code",
   "execution_count": null,
   "metadata": {},
   "outputs": [],
   "source": [
    "The faster you drive, the more fuel you're using.\n",
    "55 mph is the optimum speed on the highway. \n",
    "This is python PBL.\n",
    "I am working on python project. \n",
    "If they do that.\n",
    "In West Texas you can legally drive 80 mph.\n",
    "Gas mileage drops\n",
    "He found himself sitting at his computer.\n",
    "Typing whatever came to mind. \n",
    "He was on a website entitled 10 fast fingers. \n",
    "This site tested how fast you were at typing. \n",
    "So he typed. \n",
    "He is currently typing \n",
    "He was typing about himself typing.\n",
    "Whatever you are,be a good one.\n",
    "The book was on the table.\n",
    "We camped by the brook.\n",
    "He knew it was over the rainbow.\n",
    "She was lost in the dark of night.\n",
    "He was between a rock and a hard place.\n",
    "I waited for a while.\n",
    "She smelled of strawberries and cream.\n",
    "He won the challenge against all odds.\n",
    "He was waiting for the rain to stop.\n",
    "She was upset when it didn't boil.\n",
    "You have been sleeping for a long time.\n",
    "You might enjoy a massage.\n"
   ]
  },
  {
   "cell_type": "code",
   "execution_count": null,
   "metadata": {},
   "outputs": [],
   "source": [
    "\n",
    "    "
   ]
  },
  {
   "cell_type": "code",
   "execution_count": null,
   "metadata": {},
   "outputs": [],
   "source": []
  }
 ],
 "metadata": {
  "kernelspec": {
   "display_name": "Python 3",
   "language": "python",
   "name": "python3"
  },
  "language_info": {
   "codemirror_mode": {
    "name": "ipython",
    "version": 3
   },
   "file_extension": ".py",
   "mimetype": "text/x-python",
   "name": "python",
   "nbconvert_exporter": "python",
   "pygments_lexer": "ipython3",
   "version": "3.8.5"
  }
 },
 "nbformat": 4,
 "nbformat_minor": 4
}
