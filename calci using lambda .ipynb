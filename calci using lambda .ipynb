{
 "cells": [
  {
   "cell_type": "code",
   "execution_count": 1,
   "metadata": {},
   "outputs": [
    {
     "name": "stdout",
     "output_type": "stream",
     "text": [
      "this is sparta\n"
     ]
    }
   ],
   "source": [
    "print(\"this is sparta\")"
   ]
  },
  {
   "cell_type": "code",
   "execution_count": 1,
   "metadata": {},
   "outputs": [
    {
     "name": "stdout",
     "output_type": "stream",
     "text": [
      "25\n"
     ]
    }
   ],
   "source": [
    "x=lambda a:a*a\n",
    "print(x(5))"
   ]
  },
  {
   "cell_type": "code",
   "execution_count": null,
   "metadata": {},
   "outputs": [],
   "source": [
    "ans=\"yes\"\n",
    "while ans==\"yes\":\n",
    "    def cal(n):\n",
    "        if n==\"+\":\n",
    "            return lambda a,b:a+b\n",
    "        elif n==\"-\":\n",
    "            return lambda a,b:a-b\n",
    "        else:\n",
    "            return 0\n",
    "    n= str(input(\"which operation :+,-\"))\n",
    "\n",
    "    addition = cal(n)\n",
    "    subtraction = cal(n)\n",
    "    a = int(input('enter no. 1= '))\n",
    "    b = int(input(\"enter no. 2= \"))\n",
    "    if n==\"+\":\n",
    "        print(addition(a,b))\n",
    "    if n==\"-\":\n",
    "        print(subtraction(a,b))\n",
    "    ans=str(input(\"do you want to continue= \"))"
   ]
  },
  {
   "cell_type": "code",
   "execution_count": 3,
   "metadata": {},
   "outputs": [
    {
     "ename": "SyntaxError",
     "evalue": "invalid syntax (<ipython-input-3-e2158a28d2ff>, line 30)",
     "output_type": "error",
     "traceback": [
      "\u001b[1;36m  File \u001b[1;32m\"<ipython-input-3-e2158a28d2ff>\"\u001b[1;36m, line \u001b[1;32m30\u001b[0m\n\u001b[1;33m    else:\u001b[0m\n\u001b[1;37m    ^\u001b[0m\n\u001b[1;31mSyntaxError\u001b[0m\u001b[1;31m:\u001b[0m invalid syntax\n"
     ]
    }
   ],
   "source": [
    "print(\"Menu:\\n 1.ADD\\n 2.SUB \\n 3.DIVISION\\n 4.MULTI\\n 5.FACTORIAL\")\n",
    "\n",
    "num1=int(input(\"Enter num1= \"))\n",
    "num2=int(input(\"Enter num2= \"))\n",
    "import math\n",
    "\n",
    "ans=\"y\"        # maine ye nhi dala tha pehele but to enter a loop u need to initiate it first\n",
    "while ans=='y':\n",
    "    ch = int(input(\"ENTER CHOICE:\"))\n",
    "    if ch==1:\n",
    "        x= lambda num1,num2 : num1+num2\n",
    "        print(x(num1,num2))\n",
    "    elif ch==2:\n",
    "        x= lambda num1,num2 : num1-num2 \n",
    "        print(x(num1,num2))\n",
    "    elif ch==3:\n",
    "        x= lambda num1,num2 : num1/num2\n",
    "        print(x(num1,num2))\n",
    "    elif ch==4:\n",
    "        x=lambda num1,num2 : num1*num2\n",
    "        print(x(num1,num2))\n",
    "\n",
    "    elif ch==5:\n",
    "        y=str(input(\"choose num1/num2 = \"))\n",
    "        if y=='num1':\n",
    "            x=math.factorial(num1)\n",
    "            print(x(num1)\n",
    "        if y=='num2':\n",
    "            x=math.factorial(num2)\n",
    "            print(x(num2))\n",
    "                     \n",
    "\n",
    "    else:\n",
    "        print(\"invalid\")\n",
    "    ans=str(input('do u wanna conti= '))\n"
   ]
  },
  {
   "cell_type": "code",
   "execution_count": 4,
   "metadata": {},
   "outputs": [
    {
     "name": "stdout",
     "output_type": "stream",
     "text": [
      "3\n",
      "kutrya\n",
      "invalid literal for int() with base 10: 'kutrya'\n"
     ]
    }
   ],
   "source": [
    "# try and exception\n",
    "num1 = input()\n",
    "num2 = input()\n",
    "\n",
    "try:\n",
    "    print(\"sum of number is\", int(num1)+int(num2))\n",
    "except Exception as e:\n",
    "    print(e)\n",
    "    "
   ]
  },
  {
   "cell_type": "code",
   "execution_count": 7,
   "metadata": {},
   "outputs": [],
   "source": [
    "f= open(\"MY SELF.txt\")         # POINTER TO THE TEXT FILE"
   ]
  },
  {
   "cell_type": "code",
   "execution_count": 9,
   "metadata": {},
   "outputs": [
    {
     "name": "stdout",
     "output_type": "stream",
     "text": [
      "HELLO MY NAME IS SAKSHI KISHOR KOTHURKAR\n",
      "SHE IS THE STRONGEST WOMAN OF THIS ERA\n",
      "OK THEN GOODBYE \n"
     ]
    }
   ],
   "source": [
    "content= f.read()              # READS TEXT FILE\n",
    "print(content)"
   ]
  },
  {
   "cell_type": "markdown",
   "metadata": {},
   "source": [
    "# "
   ]
  }
 ],
 "metadata": {
  "kernelspec": {
   "display_name": "Python 3",
   "language": "python",
   "name": "python3"
  },
  "language_info": {
   "codemirror_mode": {
    "name": "ipython",
    "version": 3
   },
   "file_extension": ".py",
   "mimetype": "text/x-python",
   "name": "python",
   "nbconvert_exporter": "python",
   "pygments_lexer": "ipython3",
   "version": "3.8.5"
  }
 },
 "nbformat": 4,
 "nbformat_minor": 4
}
