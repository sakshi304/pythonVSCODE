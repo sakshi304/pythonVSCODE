{
 "cells": [
  {
   "cell_type": "code",
   "execution_count": 5,
   "metadata": {},
   "outputs": [
    {
     "name": "stdout",
     "output_type": "stream",
     "text": [
      "DICTIONARY: ['set', 'intersection', 'mutable']\n",
      "enter your choiceset\n",
      "a collection of elements\n",
      "do y wanna conti yes/nono\n"
     ]
    }
   ],
   "source": [
    "dict={\"set\":\"a collection of elements\", \"intersection\":\"common\", \"mutable\":\"can be changed\"}\n",
    "x=list(dict.keys())\n",
    "\n",
    "print(\"DICTIONARY:\",x)\n",
    "n=\"yes\"\n",
    "while n==\"yes\":\n",
    "    ch=input(\"enter your choice\")\n",
    "    if ch==\"set\":\n",
    "        print(dict[\"set\"])\n",
    "    if ch=='intersection':\n",
    "        print(dict[\"intersection\"])\n",
    "    if ch==\"mutable\":\n",
    "        print(dict[\"mutable\"])\n",
    "    n=input('do y wanna conti yes/no')"
   ]
  },
  {
   "cell_type": "code",
   "execution_count": null,
   "metadata": {},
   "outputs": [],
   "source": []
  },
  {
   "cell_type": "code",
   "execution_count": null,
   "metadata": {},
   "outputs": [],
   "source": []
  }
 ],
 "metadata": {
  "kernelspec": {
   "display_name": "Python 3",
   "language": "python",
   "name": "python3"
  },
  "language_info": {
   "codemirror_mode": {
    "name": "ipython",
    "version": 3
   },
   "file_extension": ".py",
   "mimetype": "text/x-python",
   "name": "python",
   "nbconvert_exporter": "python",
   "pygments_lexer": "ipython3",
   "version": "3.8.5"
  }
 },
 "nbformat": 4,
 "nbformat_minor": 4
}
