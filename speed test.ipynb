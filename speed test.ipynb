{
 "cells": [
  {
   "cell_type": "code",
   "execution_count": 5,
   "metadata": {},
   "outputs": [
    {
     "name": "stdout",
     "output_type": "stream",
     "text": [
      "Requirement already satisfied: termcolor in c:\\users\\sakshi\\anaconda3\\lib\\site-packages (1.1.0)\n",
      "Note: you may need to restart the kernel to use updated packages.\n"
     ]
    }
   ],
   "source": [
    "pip install termcolor"
   ]
  },
  {
   "cell_type": "code",
   "execution_count": null,
   "metadata": {},
   "outputs": [
    {
     "name": "stdout",
     "output_type": "stream",
     "text": [
      "\u001b[1m\u001b[47m\u001b[31m         WELCOME TO SPEED TYPING TEST.          \u001b[0m\n",
      "\u001b[34mEnter given phrases correctly.\u001b[0m\n",
      "\u001b[31mNOTE:\u001b[0m\u001b[31m Percentage accuracy is affected if you miss or misspell any word.\u001b[0m\n",
      "Enter yes if you are ready ?  yes\n",
      "\u001b[1m\u001b[35m\n",
      "TEST 1\u001b[0m\n",
      "Enter the phrase:\n",
      " \"   \"cell_type\": \"code\",\":\" \"cell_type:\" \"code\",\"\n",
      "\u001b[34m\n",
      "Speed:\u001b[0m 0.0 WPM\n",
      "\u001b[34mAccuracy:\u001b[0m 0.0 %\n",
      "\u001b[34mTime:\u001b[0m 38.98163604736328 s\n",
      "\u001b[1m\u001b[31m You Failed.Try again\u001b[0m\n",
      "Do you want to continue ?  yes\n",
      "Ok\n",
      "\u001b[1m\u001b[35m\n",
      "TEST 2\u001b[0m\n",
      "Enter the phrase:\n",
      " \"   \"execution_count\": 1,\":\"  \" execution_count\":  1,\"\n",
      "\u001b[34m\n",
      "Speed:\u001b[0m 0.0 WPM\n",
      "\u001b[34mAccuracy:\u001b[0m 0.0 %\n",
      "\u001b[34mTime:\u001b[0m 22.417327165603638 s\n",
      "\u001b[1m\u001b[31m You Failed.Try again\u001b[0m\n"
     ]
    }
   ],
   "source": [
    "import time\n",
    "import random\n",
    "import termcolor\n",
    "from termcolor import colored\n",
    "f=open(\"PythonF.txt\",\"rt\")\n",
    "data=f.read()\n",
    "lines = data.split('\\n')\n",
    "print(colored('         WELCOME TO SPEED TYPING TEST.          ','red','on_white',attrs=['bold'],))\n",
    "print(colored('Enter given phrases correctly.', 'blue')) \n",
    "print(colored('NOTE:','red'),end='')\n",
    "print(colored(\" Percentage accuracy is affected if you miss or misspell any word.\",'red'))\n",
    "state =str(input(colored('Enter yes if you are ready ?  ','green'))).lower()\n",
    "if state == 'yes' :\n",
    "    for i in range(30):\n",
    "        string = random.choice(lines)\n",
    "        print(colored('\\nTEST {}'.format(i+1),'magenta',attrs=['bold']))\n",
    "        t0 =time.time()\n",
    "        inputText = str(input('Enter the phrase:\\n \"%s\":'% string))\n",
    "        t1 = time.time()\n",
    "        inputWords = inputText.split()\n",
    "        idealWords = string.split()\n",
    "        inputDict = {}\n",
    "        for word in inputWords :\n",
    "          if word in inputDict.keys() : #count of each word \n",
    "            inputDict[word] = inputDict[word] + 1\n",
    "          else :\n",
    "            inputDict[word] = 1\n",
    "        matchedWords = 0\n",
    "        Idealwords=len(idealWords)\n",
    "        for word in idealWords :\n",
    "          if word in inputDict.keys() :\n",
    "            inputDict[word] = inputDict[word] - 1\n",
    "            if inputDict[word] >= 0:\n",
    "                   matchedWords += 1\n",
    "          else :\n",
    "            inputDict[word] = -1\n",
    "        mismatchCount = 0\n",
    "        for key, value in inputDict.items() :\n",
    "          if value < 0 :\n",
    "            mismatchCount += -1*value;\n",
    "          else :\n",
    "            mismatchCount += value;  \n",
    "        if len(inputWords)<=len(idealWords):\n",
    "            acc = (matchedWords) / (Idealwords)\n",
    "            acc *= 100\n",
    "        else:\n",
    "            acc = (matchedWords) / (matchedWords+mismatchCount)\n",
    "            acc *= 100    \n",
    "        timeTaken = t1 - t0\n",
    "        wordPM = (matchedWords/timeTaken)*60\n",
    "        print (colored(\"\\nSpeed:\",'blue'),wordPM ,\"WPM\")\n",
    "        print (colored(\"Accuracy:\",'blue'),acc,\"%\")\n",
    "        print (colored(\"Time:\",'blue'),timeTaken,\"s\",)\n",
    "        if acc >=80:\n",
    "          if wordPM>=10:\n",
    "            print(colored('\\nYOU PASSED THE TEST ','green',attrs=['bold']))\n",
    "        else :\n",
    "            print(colored(\" You Failed.Try again\",'red',attrs=['bold']))    \n",
    "        x=str(input(colored('Do you want to continue ?  ', 'green'))).lower()\n",
    "        if x=='yes':\n",
    "            print(\"Ok\")\n",
    "        else:\n",
    "            print(colored(\"Thank you for using speed typing test.Come again\",'red','on_white',attrs=['bold']))\n",
    "            break\n",
    "else:\n",
    "    print(colored(\"Thank you for visiting speed typing test.Come again\",'red','on_white',attrs=['bold']))\n"
   ]
  },
  {
   "cell_type": "code",
   "execution_count": null,
   "metadata": {},
   "outputs": [],
   "source": []
  },
  {
   "cell_type": "code",
   "execution_count": null,
   "metadata": {},
   "outputs": [],
   "source": []
  },
  {
   "cell_type": "code",
   "execution_count": null,
   "metadata": {},
   "outputs": [],
   "source": []
  },
  {
   "cell_type": "code",
   "execution_count": null,
   "metadata": {},
   "outputs": [],
   "source": []
  },
  {
   "cell_type": "code",
   "execution_count": null,
   "metadata": {},
   "outputs": [],
   "source": []
  },
  {
   "cell_type": "code",
   "execution_count": null,
   "metadata": {},
   "outputs": [],
   "source": []
  },
  {
   "cell_type": "code",
   "execution_count": null,
   "metadata": {},
   "outputs": [],
   "source": []
  },
  {
   "cell_type": "code",
   "execution_count": null,
   "metadata": {},
   "outputs": [],
   "source": []
  },
  {
   "cell_type": "code",
   "execution_count": null,
   "metadata": {},
   "outputs": [],
   "source": []
  },
  {
   "cell_type": "code",
   "execution_count": null,
   "metadata": {},
   "outputs": [],
   "source": []
  },
  {
   "cell_type": "code",
   "execution_count": null,
   "metadata": {},
   "outputs": [],
   "source": []
  }
 ],
 "metadata": {
  "kernelspec": {
   "display_name": "Python 3",
   "language": "python",
   "name": "python3"
  },
  "language_info": {
   "codemirror_mode": {
    "name": "ipython",
    "version": 3
   },
   "file_extension": ".py",
   "mimetype": "text/x-python",
   "name": "python",
   "nbconvert_exporter": "python",
   "pygments_lexer": "ipython3",
   "version": "3.8.5"
  }
 },
 "nbformat": 4,
 "nbformat_minor": 4
}
