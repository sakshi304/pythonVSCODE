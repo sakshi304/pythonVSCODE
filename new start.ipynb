{
 "cells": [
  {
   "cell_type": "code",
   "execution_count": 3,
   "metadata": {},
   "outputs": [
    {
     "name": "stdout",
     "output_type": "stream",
     "text": [
      "Telesco rocks rocks rocks rocks \n",
      "Telesco rocks rocks rocks rocks \n",
      "Telesco rocks rocks rocks rocks \n",
      "Telesco rocks rocks rocks rocks \n"
     ]
    }
   ],
   "source": [
    "i=1\n",
    "while i<=4:\n",
    "    print(\"Telesco\", end=\" \") \n",
    "    i+=1\n",
    "    j=1\n",
    "    while j<=4:\n",
    "        print(\"rocks\",end=\" \")\n",
    "        j+=1\n",
    "        \n"
   ]
  },
  {
   "cell_type": "code",
   "execution_count": null,
   "metadata": {},
   "outputs": [],
   "source": [
    "\n",
    "    \n"
   ]
  },
  {
   "cell_type": "code",
   "execution_count": null,
   "metadata": {},
   "outputs": [
    {
     "name": "stdout",
     "output_type": "stream",
     "text": [
      "bye\n",
      "new\n"
     ]
    }
   ],
   "source": [
    "print(\"bye\")\n",
    "print(\"new\")\n",
    "  \n",
    "i=0\n",
    "while (i<10):\n",
    "        if i<5:\n",
    "            continue \n",
    "        print(i)\n",
    "        i+=1\n",
    "\n",
    "        \n"
   ]
  },
  {
   "cell_type": "code",
   "execution_count": null,
   "metadata": {},
   "outputs": [],
   "source": [
    "i = 0\n",
    "while i < 45:\n",
    "     if i <6:\n",
    "            continue\n",
    "     print(i)\n",
    "     i += 1\n"
   ]
  },
  {
   "cell_type": "code",
   "execution_count": null,
   "metadata": {},
   "outputs": [],
   "source": [
    "print('bye')"
   ]
  },
  {
   "cell_type": "code",
   "execution_count": 35,
   "metadata": {},
   "outputs": [
    {
     "name": "stdout",
     "output_type": "stream",
     "text": [
      "var= 9\n",
      "var= 8\n",
      "var= 7\n",
      "var= 6\n",
      "var= 5\n"
     ]
    }
   ],
   "source": [
    "var=10\n",
    "while var>0:\n",
    "    var=var-1\n",
    "    if var<5:\n",
    "        continue\n",
    "    print(\"var=\",var)\n",
    "    "
   ]
  },
  {
   "cell_type": "code",
   "execution_count": null,
   "metadata": {},
   "outputs": [],
   "source": [
    "i=0\n",
    "while(i<10):\n",
    "    if i<5:\n",
    "        continue\n",
    "  \n",
    "    print(i)   \n",
    "    i+=1 \n",
    "    "
   ]
  },
  {
   "cell_type": "code",
   "execution_count": null,
   "metadata": {},
   "outputs": [],
   "source": []
  },
  {
   "cell_type": "code",
   "execution_count": 10,
   "metadata": {},
   "outputs": [],
   "source": [
    "'''\n",
    "BREAK AND CONTINUE STATEMENTS ARE USED IN LOOPS i.e LOOP MAI EK PARTICULAR POINT PR RROOK DO {BREAK} ORR KISI POINT KO SKIP KARO\n",
    "WHILE OR FOR LOOPS USING IFF STATEMENT \n",
    "WHEREAS PASS STATEMENT IS JUST PARTICULARY USED FOR \"IF\" STATEMENT i.e \n",
    "'''\n",
    "a = 33\n",
    "b = 200\n",
    "\n",
    "if b > a:                        # pass is used so that yaad ane ke bad iska vapar hoga \n",
    "    pass"
   ]
  },
  {
   "cell_type": "code",
   "execution_count": null,
   "metadata": {},
   "outputs": [],
   "source": []
  },
  {
   "cell_type": "code",
   "execution_count": 2,
   "metadata": {},
   "outputs": [
    {
     "ename": "TypeError",
     "evalue": "my_function() missing 1 required positional argument: 'lname'",
     "output_type": "error",
     "traceback": [
      "\u001b[1;31m---------------------------------------------------------------------------\u001b[0m",
      "\u001b[1;31mTypeError\u001b[0m                                 Traceback (most recent call last)",
      "\u001b[1;32m<ipython-input-2-e3ab2561a5b7>\u001b[0m in \u001b[0;36m<module>\u001b[1;34m\u001b[0m\n\u001b[0;32m      3\u001b[0m \u001b[0mx\u001b[0m\u001b[1;33m=\u001b[0m\u001b[1;34m\"Emil\"\u001b[0m\u001b[1;33m,\u001b[0m\u001b[1;34m\"Refsnes\"\u001b[0m\u001b[1;33m\u001b[0m\u001b[1;33m\u001b[0m\u001b[0m\n\u001b[0;32m      4\u001b[0m \u001b[1;33m\u001b[0m\u001b[0m\n\u001b[1;32m----> 5\u001b[1;33m \u001b[0mmy_function\u001b[0m\u001b[1;33m(\u001b[0m\u001b[0mx\u001b[0m\u001b[1;33m)\u001b[0m\u001b[1;33m\u001b[0m\u001b[1;33m\u001b[0m\u001b[0m\n\u001b[0m",
      "\u001b[1;31mTypeError\u001b[0m: my_function() missing 1 required positional argument: 'lname'"
     ]
    }
   ],
   "source": [
    "def my_function(fname, lname):\n",
    "  print(fname + \" \" + lname)\n",
    "x=\"Emil\",\"Refsnes\"\n",
    "\n",
    "my_function(x)\n"
   ]
  },
  {
   "cell_type": "code",
   "execution_count": 3,
   "metadata": {},
   "outputs": [
    {
     "name": "stdout",
     "output_type": "stream",
     "text": [
      "Emil Refsnes\n"
     ]
    }
   ],
   "source": [
    "def my_function(fname, lname):\n",
    "  print(fname + \" \" + lname)\n",
    "x=\"Emil\" \n",
    "y=\"Refsnes\"\n",
    "my_function(x,y)\n"
   ]
  },
  {
   "cell_type": "code",
   "execution_count": 4,
   "metadata": {},
   "outputs": [
    {
     "name": "stdout",
     "output_type": "stream",
     "text": [
      "The youngest child is Linus\n"
     ]
    }
   ],
   "source": [
    "def my_function(*kids):                          #tuple as arguments\n",
    "                                                 # tuple is called using index value\n",
    "  print(\"The youngest child is \" + kids[2])\n",
    "\n",
    "my_function(\"Emil\", \"Tobias\", \"Linus\")\n"
   ]
  },
  {
   "cell_type": "code",
   "execution_count": 7,
   "metadata": {},
   "outputs": [
    {
     "name": "stdout",
     "output_type": "stream",
     "text": [
      "His last name is Refsnes\n"
     ]
    }
   ],
   "source": [
    "def my_function(**kid):\n",
    "  print(\"His last name is \" + kid[\"lname\"])       #dictionary as argument\n",
    "                                                   # dict is called using KEY VALUE\n",
    "my_function(fname = \"Tobias\", lname = \"Refsnes\")"
   ]
  },
  {
   "cell_type": "code",
   "execution_count": 5,
   "metadata": {},
   "outputs": [
    {
     "name": "stdout",
     "output_type": "stream",
     "text": [
      "The youngest child is Linus\n"
     ]
    }
   ],
   "source": [
    "def my_function(child3, child2, child1):\n",
    "  print(\"The youngest child is \" + child3)\n",
    "\n",
    "my_function(child1 = \"Emil\", child2 = \"Tobias\", child3 = \"Linus\")"
   ]
  },
  {
   "cell_type": "code",
   "execution_count": 6,
   "metadata": {},
   "outputs": [
    {
     "name": "stdout",
     "output_type": "stream",
     "text": [
      "The youngest child is Emil\n"
     ]
    }
   ],
   "source": [
    "def my_function(child3, child2, child1):             #since i didnt specify which child is 3 so it will go with sequence\n",
    "  print(\"The youngest child is \" + child3)\n",
    "\n",
    "my_function(\"Emil\",\"Tobias\", \"Linus\")\n"
   ]
  },
  {
   "cell_type": "code",
   "execution_count": 7,
   "metadata": {},
   "outputs": [
    {
     "name": "stdout",
     "output_type": "stream",
     "text": [
      "this is function for avearage ,appli for two nos \n"
     ]
    }
   ],
   "source": [
    "def funct1(a,b):\n",
    "    '''this is function for avearage ,appli for two nos '''        # warnings / summary \n",
    "    average= a+b/2\n",
    "    return average\n",
    "\n",
    "print(funct1.__doc__)"
   ]
  },
  {
   "cell_type": "code",
   "execution_count": null,
   "metadata": {},
   "outputs": [
    {
     "name": "stdout",
     "output_type": "stream",
     "text": [
      "enternum1 2\n"
     ]
    }
   ],
   "source": [
    "num1= input(\"enternum1\")\n",
    "num2= input(\"enter num2\")\n",
    "try:\n",
    "    print(int(num1)+int(num2))\n",
    "except Exception as a:\n",
    "    print(a)\n"
   ]
  },
  {
   "cell_type": "code",
   "execution_count": null,
   "metadata": {},
   "outputs": [],
   "source": []
  },
  {
   "cell_type": "code",
   "execution_count": null,
   "metadata": {},
   "outputs": [],
   "source": []
  },
  {
   "cell_type": "code",
   "execution_count": null,
   "metadata": {},
   "outputs": [],
   "source": []
  },
  {
   "cell_type": "code",
   "execution_count": 9,
   "metadata": {},
   "outputs": [
    {
     "name": "stdout",
     "output_type": "stream",
     "text": [
      "enter a no.3\n",
      "33\n",
      "36\n"
     ]
    }
   ],
   "source": [
    "def myfunc(n):\n",
    "  return lambda a : a * n\n",
    "\n",
    "x=myfunc(int(input(\"enter a no.\")))\n",
    "print(x(11))\n",
    "print(x(12))\n"
   ]
  },
  {
   "cell_type": "code",
   "execution_count": 10,
   "metadata": {},
   "outputs": [
    {
     "name": "stdout",
     "output_type": "stream",
     "text": [
      "[2, 4, 6, 8, 10]\n"
     ]
    }
   ],
   "source": [
    "# filter with lambda\n",
    "l1=[1,2,3,4,5,6,7,8,9,10]                         # (lambda , list) take data from list\n",
    "x= list(filter(lambda l1:l1%2==0,l1))\n",
    "print(x)"
   ]
  },
  {
   "cell_type": "code",
   "execution_count": 11,
   "metadata": {},
   "outputs": [
    {
     "name": "stdout",
     "output_type": "stream",
     "text": [
      "[2, 4, 6, 8, 10, 12, 14, 16, 18, 20]\n"
     ]
    }
   ],
   "source": [
    "# mapping with lambda\n",
    "y=list(map(lambda l1:l1*2,l1))           # maps thur every element of list , iska zyada pata nahi\n",
    "print(y)"
   ]
  },
  {
   "cell_type": "code",
   "execution_count": 12,
   "metadata": {},
   "outputs": [
    {
     "name": "stdout",
     "output_type": "stream",
     "text": [
      "55\n"
     ]
    }
   ],
   "source": [
    "# reducing with lambda\n",
    "from functools import reduce\n",
    "sum=reduce(lambda x,y :x+y, l1)\n",
    "print(sum)"
   ]
  },
  {
   "cell_type": "code",
   "execution_count": null,
   "metadata": {},
   "outputs": [],
   "source": [
    "# OBJECT ORIENTED PROGRAMMING LANGUAGE\n",
    "# Every real world entity is object \n",
    "# Objects are represented in progamming language with OOP LANGUAGE\n",
    "# Where class is templete of these objects (obj are created in class)"
   ]
  },
  {
   "cell_type": "code",
   "execution_count": 13,
   "metadata": {},
   "outputs": [
    {
     "name": "stdout",
     "output_type": "stream",
     "text": [
      "5\n"
     ]
    }
   ],
   "source": [
    "class MyClass:\n",
    "  x = 5\n",
    "\n",
    "p1=MyClass()\n",
    "print(MyClass().x)\n"
   ]
  },
  {
   "cell_type": "code",
   "execution_count": 14,
   "metadata": {},
   "outputs": [
    {
     "name": "stdout",
     "output_type": "stream",
     "text": [
      "5\n"
     ]
    }
   ],
   "source": [
    "class MyClass:\n",
    "  x = 5\n",
    "print(MyClass().x)\n"
   ]
  },
  {
   "cell_type": "code",
   "execution_count": 17,
   "metadata": {},
   "outputs": [
    {
     "ename": "NameError",
     "evalue": "name 'make_calls' is not defined",
     "output_type": "error",
     "traceback": [
      "\u001b[1;31m---------------------------------------------------------------------------\u001b[0m",
      "\u001b[1;31mNameError\u001b[0m                                 Traceback (most recent call last)",
      "\u001b[1;32m<ipython-input-17-675d23f98338>\u001b[0m in \u001b[0;36m<module>\u001b[1;34m\u001b[0m\n\u001b[0;32m      5\u001b[0m         \u001b[0mprint\u001b[0m\u001b[1;33m(\u001b[0m\u001b[1;34m'chalo  khele'\u001b[0m\u001b[1;33m)\u001b[0m\u001b[1;33m\u001b[0m\u001b[1;33m\u001b[0m\u001b[0m\n\u001b[0;32m      6\u001b[0m \u001b[1;33m\u001b[0m\u001b[0m\n\u001b[1;32m----> 7\u001b[1;33m \u001b[0mmake_calls\u001b[0m\u001b[1;33m(\u001b[0m\u001b[1;33m)\u001b[0m\u001b[1;33m\u001b[0m\u001b[1;33m\u001b[0m\u001b[0m\n\u001b[0m",
      "\u001b[1;31mNameError\u001b[0m: name 'make_calls' is not defined"
     ]
    }
   ],
   "source": [
    "class Phone:\n",
    "    def make_calls(self):\n",
    "        print('i am calling')\n",
    "    def play_games(self):\n",
    "        print('chalo  khele')\n",
    "\n",
    "make_calls()                        #since its defined inside a class therefore direct call nahi kr sakte\n"
   ]
  },
  {
   "cell_type": "code",
   "execution_count": 13,
   "metadata": {},
   "outputs": [
    {
     "name": "stdout",
     "output_type": "stream",
     "text": [
      "i am calling\n"
     ]
    }
   ],
   "source": [
    "class Phone:\n",
    "    def make_calls(self):\n",
    "        print('i am calling')\n",
    "    def play_games(self):\n",
    "        print('chalo  khele')\n",
    "\n",
    "Phone().make_calls()                       "
   ]
  },
  {
   "cell_type": "code",
   "execution_count": 29,
   "metadata": {},
   "outputs": [
    {
     "name": "stdout",
     "output_type": "stream",
     "text": [
      "i am calling\n"
     ]
    }
   ],
   "source": [
    "class Phone:                        # COMMON BLUEPRINT OF A PHONE FEATURE\n",
    "    def make_calls(self):            \n",
    "        print('i am calling')\n",
    "    def play_games(self):\n",
    "        print('chalo  khele')\n",
    "p1= Phone()                          # THese objects are like diferent mobile phones having the common features of phone class\n",
    "p1.make_calls()                       "
   ]
  },
  {
   "cell_type": "code",
   "execution_count": 15,
   "metadata": {},
   "outputs": [
    {
     "name": "stdout",
     "output_type": "stream",
     "text": [
      "color is = blue\n"
     ]
    },
    {
     "ename": "NameError",
     "evalue": "name 'self' is not defined",
     "output_type": "error",
     "traceback": [
      "\u001b[1;31m---------------------------------------------------------------------------\u001b[0m",
      "\u001b[1;31mNameError\u001b[0m                                 Traceback (most recent call last)",
      "\u001b[1;32m<ipython-input-15-7e1e55084569>\u001b[0m in \u001b[0;36m<module>\u001b[1;34m\u001b[0m\n\u001b[0;32m     16\u001b[0m \u001b[0mp1\u001b[0m\u001b[1;33m.\u001b[0m\u001b[0mshow_color\u001b[0m\u001b[1;33m(\u001b[0m\u001b[1;33m)\u001b[0m\u001b[1;33m\u001b[0m\u001b[1;33m\u001b[0m\u001b[0m\n\u001b[0;32m     17\u001b[0m \u001b[0mp1\u001b[0m\u001b[1;33m.\u001b[0m\u001b[0mset_cost\u001b[0m\u001b[1;33m(\u001b[0m\u001b[1;36m50000\u001b[0m\u001b[1;33m)\u001b[0m\u001b[1;33m\u001b[0m\u001b[1;33m\u001b[0m\u001b[0m\n\u001b[1;32m---> 18\u001b[1;33m \u001b[0mp1\u001b[0m\u001b[1;33m.\u001b[0m\u001b[0mshow_cost\u001b[0m\u001b[1;33m(\u001b[0m\u001b[1;33m)\u001b[0m\u001b[1;33m\u001b[0m\u001b[1;33m\u001b[0m\u001b[0m\n\u001b[0m",
      "\u001b[1;32m<ipython-input-15-7e1e55084569>\u001b[0m in \u001b[0;36mshow_cost\u001b[1;34m(t)\u001b[0m\n\u001b[0;32m     10\u001b[0m \u001b[1;33m\u001b[0m\u001b[0m\n\u001b[0;32m     11\u001b[0m     \u001b[1;32mdef\u001b[0m \u001b[0mshow_cost\u001b[0m\u001b[1;33m(\u001b[0m\u001b[0mt\u001b[0m\u001b[1;33m)\u001b[0m\u001b[1;33m:\u001b[0m\u001b[1;33m\u001b[0m\u001b[1;33m\u001b[0m\u001b[0m\n\u001b[1;32m---> 12\u001b[1;33m         \u001b[0mprint\u001b[0m\u001b[1;33m(\u001b[0m\u001b[1;34m\"cost is =\"\u001b[0m\u001b[1;33m,\u001b[0m\u001b[0mself\u001b[0m\u001b[1;33m.\u001b[0m\u001b[0mcost\u001b[0m\u001b[1;33m)\u001b[0m\u001b[1;33m\u001b[0m\u001b[1;33m\u001b[0m\u001b[0m\n\u001b[0m\u001b[0;32m     13\u001b[0m \u001b[1;33m\u001b[0m\u001b[0m\n\u001b[0;32m     14\u001b[0m \u001b[0mp1\u001b[0m\u001b[1;33m=\u001b[0m \u001b[0mPhone\u001b[0m\u001b[1;33m(\u001b[0m\u001b[1;33m)\u001b[0m\u001b[1;33m\u001b[0m\u001b[1;33m\u001b[0m\u001b[0m\n",
      "\u001b[1;31mNameError\u001b[0m: name 'self' is not defined"
     ]
    }
   ],
   "source": [
    "class Phone:                                  # creating data of objects \n",
    "    def set_color(self,color):\n",
    "        self.color= color                     # 1st parameter is always self\n",
    "                                              # SELF ka  kam inbuilt parameters ko object ke sath jodnaa   hai\n",
    "    def set_cost(self,cost):\n",
    "        self.cost=cost\n",
    "        \n",
    "    def show_color(self):\n",
    "        print(\"color is =\",self.color)\n",
    "        \n",
    "    def show_cost(t):                          #####******               self ye ek tar hai jo arguments ko jodti hai\n",
    "        print(\"cost is =\",self.cost)\n",
    "        \n",
    "p1= Phone()\n",
    "p1.set_color('blue')\n",
    "p1.show_color()\n",
    "p1.set_cost(50000)\n",
    "p1.show_cost()"
   ]
  },
  {
   "cell_type": "code",
   "execution_count": 16,
   "metadata": {},
   "outputs": [
    {
     "name": "stdout",
     "output_type": "stream",
     "text": [
      "color is = blue\n",
      "cost is = 50000\n"
     ]
    }
   ],
   "source": [
    "class Phone:                                  \n",
    "    def set_color(self,color):\n",
    "        self.color= color  \n",
    "        \n",
    "    def set_cost(self,cost):\n",
    "        self.cost=cost\n",
    "        \n",
    "    def show_color(self):\n",
    "        print(\"color is =\",self.color)\n",
    "        \n",
    "    def show_cost(self):                        \n",
    "        print(\"cost is =\",self.cost)\n",
    "        \n",
    "p1= Phone()\n",
    "p1.set_color('blue')\n",
    "p1.show_color()\n",
    "p1.set_cost(50000)\n",
    "p1.show_cost()"
   ]
  },
  {
   "cell_type": "code",
   "execution_count": 22,
   "metadata": {},
   "outputs": [
    {
     "name": "stdout",
     "output_type": "stream",
     "text": [
      "color is = blue\n",
      "cost is = 5000\n"
     ]
    }
   ],
   "source": [
    "# CONSTURCTOR  __init__       = takes every argument together\n",
    "\n",
    "class Phone:                                         \n",
    "    def __init__(self,color,cost):\n",
    "        self.color= color\n",
    "        self.cost= cost\n",
    "    def show_color(self):\n",
    "        print(\"color is =\",self.color)\n",
    "    def show_cost(self):\n",
    "        print(\"cost is =\",self.cost)\n",
    "p1= Phone(\"blue\",5000)                    # adding values while creating object\n",
    "p1.show_color()\n",
    "p1.show_cost()\n",
    "\n",
    "\n"
   ]
  },
  {
   "cell_type": "code",
   "execution_count": 22,
   "metadata": {},
   "outputs": [
    {
     "name": "stdout",
     "output_type": "stream",
     "text": [
      "color is = black\n",
      "cost is = 5000000\n"
     ]
    }
   ],
   "source": [
    "# INHERITANCE       = 1.creating base class, 2. then sub class inherits propertiees of \n",
    "\n",
    "class Vehicle:\n",
    "    def __init__( self,color,cost):\n",
    "        self.color= color\n",
    "        self.cost= cost\n",
    "    def show_color(self):\n",
    "        print(\"color is =\",self.color)\n",
    "    def show_cost(self):\n",
    "        print(\"cost is =\",self.cost)\n",
    " \n",
    "\n",
    "c1=Vehicle('black',5000000)\n",
    "c1.show_color()\n",
    "c1.show_cost()\n",
    "    \n",
    "\n"
   ]
  },
  {
   "cell_type": "code",
   "execution_count": 9,
   "metadata": {},
   "outputs": [
    {
     "name": "stdout",
     "output_type": "stream",
     "text": [
      "cost is = 6000000\n",
      "its a car\n"
     ]
    }
   ],
   "source": [
    "class Car(Vehicle):\n",
    "    def show_car_details(self):\n",
    "        print(\"its a car\")     \n",
    "c2= Car('white',6000000)\n",
    "c2.show_cost()\n",
    "c2.show_car_details()"
   ]
  },
  {
   "cell_type": "code",
   "execution_count": 27,
   "metadata": {},
   "outputs": [],
   "source": [
    "class Car(Vehicle):\n",
    "    def __init__(self,color,cost,mileage,fuel_capacity):           # Appending more data \n",
    "        super().__init__(color,cost)\n",
    "        self.mileage= mileage\n",
    "        self.fuel_capacity= fuel_capacity\n",
    "  \n",
    "    def show_car_details(self):\n",
    "        print(\"its a car\")    \n",
    "        print(\"mileage of car is =\", self.mileage)\n",
    "        print(\"fuel capacity of car is =\", self.fuel_capacity) \n",
    "        print(\"color=\",self.color)\n",
    "        print(\"cost=\",self.cost) "
   ]
  },
  {
   "cell_type": "code",
   "execution_count": 28,
   "metadata": {},
   "outputs": [
    {
     "name": "stdout",
     "output_type": "stream",
     "text": [
      "its a car\n",
      "mileage of car is = 60\n",
      "fuel capacity of car is = 10\n",
      "color= black\n",
      "cost= 10000000\n"
     ]
    }
   ],
   "source": [
    "c2= Car(\"black\", 10000000,60 ,10)\n",
    "                                               # c2.show_color()     u may call this separately as well \n",
    "                                                # c2.show_cost()\n",
    "\n",
    "c2.show_car_details()"
   ]
  },
  {
   "cell_type": "code",
   "execution_count": null,
   "metadata": {},
   "outputs": [],
   "source": [
    "# faulty  calci\n",
    "\n",
    "\n"
   ]
  },
  {
   "cell_type": "code",
   "execution_count": 12,
   "metadata": {},
   "outputs": [
    {
     "name": "stdout",
     "output_type": "stream",
     "text": [
      "14\n"
     ]
    }
   ],
   "source": [
    "a=5\n",
    "b=9\n",
    "print(a+b)"
   ]
  },
  {
   "cell_type": "code",
   "execution_count": null,
   "metadata": {},
   "outputs": [],
   "source": []
  },
  {
   "cell_type": "code",
   "execution_count": null,
   "metadata": {},
   "outputs": [],
   "source": []
  }
 ],
 "metadata": {
  "kernelspec": {
   "display_name": "Python 3",
   "language": "python",
   "name": "python3"
  },
  "language_info": {
   "codemirror_mode": {
    "name": "ipython",
    "version": 3
   },
   "file_extension": ".py",
   "mimetype": "text/x-python",
   "name": "python",
   "nbconvert_exporter": "python",
   "pygments_lexer": "ipython3",
   "version": "3.8.5"
  }
 },
 "nbformat": 4,
 "nbformat_minor": 4
}
